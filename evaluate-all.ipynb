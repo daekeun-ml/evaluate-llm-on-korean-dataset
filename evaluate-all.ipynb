{
 "cells": [
  {
   "cell_type": "markdown",
   "id": "5fa01a76",
   "metadata": {},
   "source": [
    "# Compute statistics for all benchmark results and save them as Markdown."
   ]
  },
  {
   "cell_type": "code",
   "execution_count": null,
   "id": "a388f7dc-c6a9-483c-ba10-f61d0af921fd",
   "metadata": {
    "tags": []
   },
   "outputs": [],
   "source": [
    "import glob\n",
    "import pandas as pd\n",
    "from util.evaluate_helper import get_experiments_md, extract_single_alphabet_answer\n",
    "\n",
    "csv_files = glob.glob(\"results/*.csv\")\n",
    "\n",
    "for file_path in csv_files:\n",
    "    df = pd.read_csv(file_path)\n",
    "    df['pred'] = df.apply(extract_single_alphabet_answer, axis=1)\n",
    "    df.to_csv(file_path, index=False)\n",
    "    print(f\"Processed {file_path}\")"
   ]
  },
  {
   "cell_type": "markdown",
   "id": "fcf64bdf-36ed-4e96-bdc5-59f70424d338",
   "metadata": {},
   "source": [
    "## CLIcK"
   ]
  },
  {
   "cell_type": "code",
   "execution_count": null,
   "id": "3a1e6299-99b6-4574-9502-9d9f22b8ee78",
   "metadata": {
    "tags": []
   },
   "outputs": [],
   "source": [
    "dataset = \"CLIcK\"\n",
    "csv_path_dict = {\n",
    "    \"Phi-3.5-MoE-instruct\": f\"results/[{dataset}] Phi-3-5-MoE-instruct.csv\",\n",
    "    \"Phi-3.5-mini-instruct\": f\"results/[{dataset}] Phi-3-5-mini-instruct.csv\",\n",
    "    \"Phi-3-mini-128k-instruct-June\": f\"results/[{dataset}] Phi-3-mini-128k-June.csv\",\n",
    "    \"Llama-3.1-8B-Instruct\": f\"results/[{dataset}] llama-3-1-8b-instruct.csv\",\n",
    "    \"GPT-4o\": f\"results/[{dataset}] gpt-4o-240513.csv\",\n",
    "    \"GPT-4o-mini\": f\"results/[{dataset}] gpt-4o-mini-240718.csv\",\n",
    "    \"GPT-4-turbo\": f\"results/[{dataset}] gpt-4-turbo-240409.csv\",\n",
    "    \"GPT-3.5-turbo\": f\"results/[{dataset}] gpt-35-turbo-230613.csv\"    \n",
    "}\n",
    "click_md = get_experiments_md(dataset, csv_path_dict)"
   ]
  },
  {
   "cell_type": "markdown",
   "id": "ef65d154-7d6e-444c-8e16-daf0ac22dfad",
   "metadata": {},
   "source": [
    "## HAERAE 1.0"
   ]
  },
  {
   "cell_type": "code",
   "execution_count": null,
   "id": "ae55484c-834e-4614-9069-d7239c4bd9e8",
   "metadata": {
    "tags": []
   },
   "outputs": [],
   "source": [
    "dataset = \"HAERAE\"\n",
    "csv_path_dict = {\n",
    "    \"Phi-3.5-MoE-instruct\": f\"results/[{dataset}] Phi-3-5-MoE-instruct.csv\",\n",
    "    \"Phi-3.5-mini-instruct\": f\"results/[{dataset}] Phi-3-5-mini-instruct.csv\",\n",
    "    \"Phi-3-mini-128k-instruct-June\": f\"results/[{dataset}] Phi-3-mini-128k-June.csv\",    \n",
    "    \"Llama-3.1-8B-Instruct\": f\"results/[{dataset}] llama-3-1-8b-instruct.csv\",\n",
    "    \"GPT-4o\": f\"results/[{dataset}] gpt-4o-240513.csv\",\n",
    "    \"GPT-4o-mini\": f\"results/[{dataset}] gpt-4o-mini-240718.csv\",\n",
    "    \"GPT-4-turbo\": f\"results/[{dataset}] gpt-4-turbo-240409.csv\",\n",
    "    \"GPT-3.5-turbo\": f\"results/[{dataset}] gpt-35-turbo-230613.csv\"    \n",
    "}\n",
    "haerae_md = get_experiments_md(dataset, csv_path_dict)"
   ]
  },
  {
   "cell_type": "markdown",
   "id": "6ad0a624-7fad-4ada-b998-db0cc77fdde4",
   "metadata": {},
   "source": [
    "## KMMLU"
   ]
  },
  {
   "cell_type": "markdown",
   "id": "6897efbe",
   "metadata": {},
   "source": [
    "### zero-shot"
   ]
  },
  {
   "cell_type": "code",
   "execution_count": null,
   "id": "bcf67094-1544-4655-aa85-824ccd783a18",
   "metadata": {
    "tags": []
   },
   "outputs": [],
   "source": [
    "dataset = \"KMMLU\"\n",
    "csv_path_dict = {\n",
    "    \"Phi-3.5-MoE-instruct\": f\"results/[{dataset}] Phi-3-5-MoE-instruct.csv\",\n",
    "    \"Phi-3.5-mini-instruct\": f\"results/[{dataset}] Phi-3-5-mini-instruct.csv\",\n",
    "    \"Phi-3-mini-128k-instruct-June\": f\"results/[{dataset}] Phi-3-mini-128k-June.csv\",    \n",
    "    \"Llama-3.1-8B-Instruct\": f\"results/[{dataset}] llama-3-1-8b-instruct.csv\",\n",
    "    \"GPT-4o\": f\"results/[{dataset}] gpt-4o-240513.csv\",\n",
    "    \"GPT-4o-mini\": f\"results/[{dataset}] gpt-4o-mini-240718.csv\",\n",
    "    \"GPT-4-turbo\": f\"results/[{dataset}] gpt-4-turbo-240409.csv\",\n",
    "    \"GPT-3.5-turbo\": f\"results/[{dataset}] gpt-35-turbo-230613.csv\"    \n",
    "}\n",
    "kmmlu_md = get_experiments_md(dataset, csv_path_dict)"
   ]
  },
  {
   "cell_type": "markdown",
   "id": "64678ebe",
   "metadata": {},
   "source": [
    "### 5-shot"
   ]
  },
  {
   "cell_type": "code",
   "execution_count": null,
   "id": "54e914b6",
   "metadata": {},
   "outputs": [],
   "source": [
    "dataset = \"KMMLU\"\n",
    "postfix = \"5shot\"\n",
    "\n",
    "csv_path_dict = {\n",
    "    \"Phi-3.5-MoE-instruct\": f\"results/[{dataset}] Phi-3-5-MoE-instruct-{postfix}.csv\",\n",
    "    \"Phi-3.5-mini-instruct\": f\"results/[{dataset}] Phi-3-5-mini-instruct-{postfix}.csv\",\n",
    "    \"Phi-3-mini-128k-instruct-June\": f\"results/[{dataset}] Phi-3-mini-128k-June-{postfix}.csv\",    \n",
    "    \"Llama-3.1-8B-Instruct\": f\"results/[{dataset}] llama-3-1-8b-instruct-{postfix}.csv\",\n",
    "    \"GPT-4o\": f\"results/[{dataset}] gpt-4o-240513-{postfix}.csv\",\n",
    "    \"GPT-4o-mini\": f\"results/[{dataset}] gpt-4o-mini-240718-{postfix}.csv\",\n",
    "    \"GPT-4-turbo\": f\"results/[{dataset}] gpt-4-turbo-240409-{postfix}.csv\",\n",
    "    \"GPT-3.5-turbo\": f\"results/[{dataset}] gpt-35-turbo-230613-{postfix}.csv\"    \n",
    "}\n",
    "kmmlu_5shot_md = get_experiments_md(dataset, csv_path_dict, postfix)"
   ]
  },
  {
   "cell_type": "markdown",
   "id": "97636dc7-0806-4e2a-ba15-7d84c4bc9a6e",
   "metadata": {},
   "source": [
    "## KMMLU-HARD"
   ]
  },
  {
   "cell_type": "markdown",
   "id": "1646604f",
   "metadata": {},
   "source": [
    "### zero-shot"
   ]
  },
  {
   "cell_type": "code",
   "execution_count": null,
   "id": "f366b7da-b91a-4f6b-83b8-879b45443827",
   "metadata": {
    "tags": []
   },
   "outputs": [],
   "source": [
    "dataset = \"KMMLU-HARD\"\n",
    "csv_path_dict = {\n",
    "    \"Phi-3.5-MoE-instruct\": f\"results/[{dataset}] Phi-3-5-MoE-instruct.csv\",\n",
    "    \"Phi-3.5-mini-instruct\": f\"results/[{dataset}] Phi-3-5-mini-instruct.csv\",\n",
    "    \"Phi-3-mini-128k-instruct-June\": f\"results/[{dataset}] Phi-3-mini-128k-June.csv\",    \n",
    "    \"Llama-3.1-8B-Instruct\": f\"results/[{dataset}] llama-3-1-8b-instruct.csv\",\n",
    "    \"GPT-4o\": f\"results/[{dataset}] gpt-4o-240513.csv\",\n",
    "    \"GPT-4o-mini\": f\"results/[{dataset}] gpt-4o-mini-240718.csv\",\n",
    "    \"GPT-4-turbo\": f\"results/[{dataset}] gpt-4-turbo-240409.csv\",\n",
    "    \"GPT-3.5-turbo\": f\"results/[{dataset}] gpt-35-turbo-230613.csv\"    \n",
    "}\n",
    "kmmlu_hard_md = get_experiments_md(dataset, csv_path_dict)"
   ]
  },
  {
   "cell_type": "markdown",
   "id": "30428a3a",
   "metadata": {},
   "source": [
    "### 5-shot"
   ]
  },
  {
   "cell_type": "code",
   "execution_count": null,
   "id": "33d0ecd8",
   "metadata": {},
   "outputs": [],
   "source": [
    "dataset = \"KMMLU-HARD\"\n",
    "postfix = \"5shot\"\n",
    "\n",
    "csv_path_dict = {\n",
    "    \"Phi-3.5-MoE-instruct\": f\"results/[{dataset}] Phi-3-5-MoE-instruct-{postfix}.csv\",\n",
    "    \"Phi-3.5-mini-instruct\": f\"results/[{dataset}] Phi-3-5-mini-instruct-{postfix}.csv\",\n",
    "    \"Phi-3-mini-128k-instruct-June\": f\"results/[{dataset}] Phi-3-mini-128k-June-{postfix}.csv\",    \n",
    "    \"Llama-3.1-8B-Instruct\": f\"results/[{dataset}] llama-3-1-8b-instruct-{postfix}.csv\",\n",
    "    \"GPT-4o\": f\"results/[{dataset}] gpt-4o-240513-{postfix}.csv\",\n",
    "    \"GPT-4o-mini\": f\"results/[{dataset}] gpt-4o-mini-240718-{postfix}.csv\",\n",
    "    \"GPT-4-turbo\": f\"results/[{dataset}] gpt-4-turbo-240409-{postfix}.csv\",\n",
    "    \"GPT-3.5-turbo\": f\"results/[{dataset}] gpt-35-turbo-230613-{postfix}.csv\"    \n",
    "}\n",
    "kmmlu_hard_5shot_md = get_experiments_md(dataset, csv_path_dict, postfix)"
   ]
  },
  {
   "cell_type": "markdown",
   "id": "6c86a08e",
   "metadata": {},
   "source": [
    "## Save to the Markdown"
   ]
  },
  {
   "cell_type": "code",
   "execution_count": 13,
   "id": "066cf5c1",
   "metadata": {},
   "outputs": [],
   "source": [
    "with open(\"DETAILED_RESULTS.md\", \"w\") as f:\n",
    "    f.write(\"## Detailed Results\\n\\n\")\n",
    "    f.write(click_md)\n",
    "    f.write(\"\\n\\n\")\n",
    "    f.write(haerae_md)\n",
    "    f.write(\"\\n\\n\")    \n",
    "    f.write(kmmlu_md)\n",
    "    f.write(\"\\n\\n\")\n",
    "    f.write(kmmlu_5shot_md)\n",
    "    f.write(\"\\n\\n\")\n",
    "    f.write(kmmlu_hard_md)\n",
    "    f.write(\"\\n\\n\")\n",
    "    f.write(kmmlu_hard_5shot_md)"
   ]
  }
 ],
 "metadata": {
  "kernelspec": {
   "display_name": "py312-dev",
   "language": "python",
   "name": "python3"
  },
  "language_info": {
   "codemirror_mode": {
    "name": "ipython",
    "version": 3
   },
   "file_extension": ".py",
   "mimetype": "text/x-python",
   "name": "python",
   "nbconvert_exporter": "python",
   "pygments_lexer": "ipython3",
   "version": "3.12.2"
  }
 },
 "nbformat": 4,
 "nbformat_minor": 5
}
