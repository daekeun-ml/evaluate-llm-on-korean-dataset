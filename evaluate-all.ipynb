{
 "cells": [
  {
   "cell_type": "code",
   "execution_count": null,
   "id": "a388f7dc-c6a9-483c-ba10-f61d0af921fd",
   "metadata": {
    "tags": []
   },
   "outputs": [],
   "source": [
    "from util.evaluate_helper import evaluate, get_markdown_accuracy, get_markdown_accuracy_with_overall, print_experiments"
   ]
  },
  {
   "cell_type": "markdown",
   "id": "fcf64bdf-36ed-4e96-bdc5-59f70424d338",
   "metadata": {},
   "source": [
    "## CLIcK"
   ]
  },
  {
   "cell_type": "code",
   "execution_count": null,
   "id": "3a1e6299-99b6-4574-9502-9d9f22b8ee78",
   "metadata": {
    "tags": []
   },
   "outputs": [],
   "source": [
    "dataset = \"CLIcK\"\n",
    "csv_path_dict = {\n",
    "    \"Phi-3.5-MoE-instruct\": f\"results/[{dataset}] Phi-3-5-MoE-instruct.csv\",\n",
    "    \"Phi-3.5-mini-instruct\": f\"results/[{dataset}] Phi-3-5-mini-instruct.csv\",\n",
    "    \"Llama-3.1-8B-Instruct\": f\"results/[{dataset}] llama-3-1-8b-instruct.csv\",\n",
    "    \"GPT-4o\": f\"results/[{dataset}] gpt-4o-240513.csv\",\n",
    "    \"GPT-4o-mini\": f\"results/[{dataset}] gpt-4o-mini-240718.csv\",\n",
    "    \"GPT-4-turbo\": f\"results/[{dataset}] gpt-4-turbo-240409.csv\",\n",
    "    \"GPT-3.5-turbo\": f\"results/[{dataset}] gpt-35-turbo-230613.csv\"    \n",
    "}\n",
    "print_experiments(dataset, csv_path_dict)"
   ]
  },
  {
   "cell_type": "markdown",
   "id": "ef65d154-7d6e-444c-8e16-daf0ac22dfad",
   "metadata": {},
   "source": [
    "## HAERAE 1.0"
   ]
  },
  {
   "cell_type": "code",
   "execution_count": null,
   "id": "ae55484c-834e-4614-9069-d7239c4bd9e8",
   "metadata": {
    "tags": []
   },
   "outputs": [],
   "source": [
    "dataset = \"HAERAE\"\n",
    "csv_path_dict = {\n",
    "    \"Phi-3.5-MoE-instruct\": f\"results/[{dataset}] Phi-3-5-MoE-instruct.csv\",\n",
    "    \"Phi-3.5-mini-instruct\": f\"results/[{dataset}] Phi-3-5-mini-instruct.csv\",\n",
    "    \"Llama-3.1-8B-Instruct\": f\"results/[{dataset}] llama-3-1-8b-instruct.csv\",\n",
    "    \"GPT-4o\": f\"results/[{dataset}] gpt-4o-240513.csv\",\n",
    "    \"GPT-4o-mini\": f\"results/[{dataset}] gpt-4o-mini-240718.csv\",\n",
    "    \"GPT-4-turbo\": f\"results/[{dataset}] gpt-4-turbo-240409.csv\",\n",
    "    \"GPT-3.5-turbo\": f\"results/[{dataset}] gpt-35-turbo-230613.csv\"    \n",
    "}\n",
    "print_experiments(dataset, csv_path_dict)"
   ]
  },
  {
   "cell_type": "markdown",
   "id": "6ad0a624-7fad-4ada-b998-db0cc77fdde4",
   "metadata": {},
   "source": [
    "## KMMLU"
   ]
  },
  {
   "cell_type": "code",
   "execution_count": null,
   "id": "bcf67094-1544-4655-aa85-824ccd783a18",
   "metadata": {
    "tags": []
   },
   "outputs": [],
   "source": [
    "dataset = \"KMMLU\"\n",
    "csv_path_dict = {\n",
    "    \"Phi-3.5-MoE-instruct\": f\"results/[{dataset}] Phi-3-5-MoE-instruct.csv\",\n",
    "    \"Phi-3.5-mini-instruct\": f\"results/[{dataset}] Phi-3-5-mini-instruct.csv\",\n",
    "    \"Llama-3.1-8B-Instruct\": f\"results/[{dataset}] llama-3-1-8b-instruct.csv\",\n",
    "    \"GPT-4o\": f\"results/[{dataset}] gpt-4o-240513.csv\",\n",
    "    \"GPT-4o-mini\": f\"results/[{dataset}] gpt-4o-mini-240718.csv\",\n",
    "    \"GPT-4-turbo\": f\"results/[{dataset}] gpt-4-turbo-240409.csv\",\n",
    "    \"GPT-3.5-turbo\": f\"results/[{dataset}] gpt-35-turbo-230613.csv\"    \n",
    "}\n",
    "print_experiments(dataset, csv_path_dict)"
   ]
  },
  {
   "cell_type": "markdown",
   "id": "97636dc7-0806-4e2a-ba15-7d84c4bc9a6e",
   "metadata": {},
   "source": [
    "## KMMLU-HARD"
   ]
  },
  {
   "cell_type": "code",
   "execution_count": null,
   "id": "f366b7da-b91a-4f6b-83b8-879b45443827",
   "metadata": {
    "tags": []
   },
   "outputs": [],
   "source": [
    "dataset = \"KMMLU-HARD\"\n",
    "csv_path_dict = {\n",
    "    \"Phi-3.5-MoE-instruct\": f\"results/[{dataset}] Phi-3-5-MoE-instruct.csv\",\n",
    "    \"Phi-3.5-mini-instruct\": f\"results/[{dataset}] Phi-3-5-mini-instruct.csv\",\n",
    "    \"Llama-3.1-8B-Instruct\": f\"results/[{dataset}] llama-3-1-8b-instruct.csv\",\n",
    "    \"GPT-4o\": f\"results/[{dataset}] gpt-4o-240513.csv\",\n",
    "    \"GPT-4o-mini\": f\"results/[{dataset}] gpt-4o-mini-240718.csv\",\n",
    "    \"GPT-4-turbo\": f\"results/[{dataset}] gpt-4-turbo-240409.csv\",\n",
    "    \"GPT-3.5-turbo\": f\"results/[{dataset}] gpt-35-turbo-230613.csv\"    \n",
    "}\n",
    "print_experiments(dataset, csv_path_dict)"
   ]
  },
  {
   "cell_type": "code",
   "execution_count": null,
   "id": "6c1f3792-ba88-425b-a7da-80eb941536f3",
   "metadata": {},
   "outputs": [],
   "source": []
  }
 ],
 "metadata": {
  "kernelspec": {
   "display_name": "Python 3.10 - SDK v2",
   "language": "python",
   "name": "python310-sdkv2"
  },
  "language_info": {
   "codemirror_mode": {
    "name": "ipython",
    "version": 3
   },
   "file_extension": ".py",
   "mimetype": "text/x-python",
   "name": "python",
   "nbconvert_exporter": "python",
   "pygments_lexer": "ipython3",
   "version": "3.10.14"
  }
 },
 "nbformat": 4,
 "nbformat_minor": 5
}
