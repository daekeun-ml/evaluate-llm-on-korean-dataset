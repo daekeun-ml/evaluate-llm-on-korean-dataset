{
 "cells": [
  {
   "cell_type": "code",
   "execution_count": 1,
   "id": "a388f7dc-c6a9-483c-ba10-f61d0af921fd",
   "metadata": {
    "tags": []
   },
   "outputs": [],
   "source": [
    "from util.evaluate_helper import evaluate, get_markdown_accuracy, get_markdown_accuracy_with_overall, print_experiments"
   ]
  },
  {
   "cell_type": "markdown",
   "id": "fcf64bdf-36ed-4e96-bdc5-59f70424d338",
   "metadata": {},
   "source": [
    "## CLIcK"
   ]
  },
  {
   "cell_type": "markdown",
   "id": "77803bfd-7933-4167-8bf0-3d8025b86ef4",
   "metadata": {},
   "source": [
    "### Open source models"
   ]
  },
  {
   "cell_type": "code",
   "execution_count": null,
   "id": "3a1e6299-99b6-4574-9502-9d9f22b8ee78",
   "metadata": {
    "tags": []
   },
   "outputs": [],
   "source": [
    "dataset = \"CLIcK\"\n",
    "csv_path_dict = {\n",
    "    \"Phi-3.5-MoE-instruct\": f\"results/[{dataset}] Phi-3-5-MoE-instruct.csv\",\n",
    "    \"Phi-3.5-mini-instruct\": f\"results/[{dataset}] Phi-3-5-mini-instruct.csv\",\n",
    "    \"Llama-3.1-8B-Instruct\": f\"results/[{dataset}] llama-3-1-8b-instruct.csv\",\n",
    "}\n",
    "print_experiments(dataset, csv_path_dict)"
   ]
  },
  {
   "cell_type": "code",
   "execution_count": null,
   "id": "79f19b67-9855-4741-b1c2-0d5f414a74eb",
   "metadata": {},
   "outputs": [],
   "source": [
    "### Proprietary models"
   ]
  },
  {
   "cell_type": "code",
   "execution_count": 2,
   "id": "a4b8d58a-c148-4578-a35d-cc7b94c9b3fd",
   "metadata": {
    "tags": []
   },
   "outputs": [
    {
     "name": "stdout",
     "output_type": "stream",
     "text": [
      "### CLIcK\n",
      "\n",
      "#### Accuracy by supercategory\n",
      "| supercategory   |   GPT-4o |   GPT-4o-mini |   GPT-4-turbo |   GPT-3.5-turbo |\n",
      "|:----------------|---------:|--------------:|--------------:|----------------:|\n",
      "| Culture         |    81.89 |         70.95 |         73.61 |           53.38 |\n",
      "| Language        |    77.54 |         63.54 |         71.23 |           46    |\n",
      "| **Overall**     |    80.46 |         68.5  |         72.82 |           50.98 |\n",
      "\n",
      "#### Accuracy by category\n",
      "| supercategory   | category    |   GPT-4o |   GPT-4o-mini |   GPT-4-turbo |   GPT-3.5-turbo |\n",
      "|:----------------|:------------|---------:|--------------:|--------------:|----------------:|\n",
      "| Culture         | Economy     |    94.92 |         83.05 |         89.83 |           64.41 |\n",
      "| Culture         | Geography   |    80.15 |         77.86 |         82.44 |           53.44 |\n",
      "| Culture         | History     |    66.92 |         48.4  |         46.4  |           31.79 |\n",
      "| Culture         | Law         |    70.78 |         57.53 |         61.19 |           41.55 |\n",
      "| Culture         | Politics    |    88.1  |         83.33 |         89.29 |           65.48 |\n",
      "| Culture         | Pop Culture |    97.56 |         85.37 |         92.68 |           75.61 |\n",
      "| Culture         | Society     |    92.88 |         85.44 |         86.73 |           71.2  |\n",
      "| Culture         | Tradition   |    87.39 |         74.77 |         79.28 |           55.86 |\n",
      "| Language        | Functional  |    84.8  |         64.8  |         80    |           40    |\n",
      "| Language        | Grammar     |    57.08 |         42.5  |         47.5  |           30    |\n",
      "| Language        | Textual     |    91.58 |         80.7  |         87.37 |           62.11 |\n"
     ]
    }
   ],
   "source": [
    "dataset = \"CLIcK\"\n",
    "csv_path_dict = {\n",
    "    \"GPT-4o\": f\"results/[{dataset}] gpt-4o-240513.csv\",\n",
    "    \"GPT-4o-mini\": f\"results/[{dataset}] gpt-4o-mini-240718.csv\",\n",
    "    \"GPT-4-turbo\": f\"results/[{dataset}] gpt-4-turbo-240409.csv\",\n",
    "    \"GPT-3.5-turbo\": f\"results/[{dataset}] gpt-35-turbo-230613.csv\"\n",
    "}\n",
    "print_experiments(dataset, csv_path_dict)"
   ]
  },
  {
   "cell_type": "markdown",
   "id": "ef65d154-7d6e-444c-8e16-daf0ac22dfad",
   "metadata": {},
   "source": [
    "## HAERAE 1.0"
   ]
  },
  {
   "cell_type": "markdown",
   "id": "5c8a3122-5817-476a-bbc8-5d60963f8086",
   "metadata": {},
   "source": [
    "### Open source models"
   ]
  },
  {
   "cell_type": "code",
   "execution_count": 3,
   "id": "ae55484c-834e-4614-9069-d7239c4bd9e8",
   "metadata": {
    "tags": []
   },
   "outputs": [
    {
     "name": "stdout",
     "output_type": "stream",
     "text": [
      "### HAERAE\n",
      "\n",
      "#### Accuracy by category\n",
      "| category              |   Phi-3.5-MoE-instruct |   Phi-3.5-mini-instruct |   Llama-3.1-8B-Instruct |\n",
      "|:----------------------|-----------------------:|------------------------:|------------------------:|\n",
      "| General Knowledge     |                  39.77 |                   31.25 |                   34.66 |\n",
      "| History               |                  60.64 |                   32.45 |                   44.15 |\n",
      "| Loan Words            |                  70.41 |                   47.93 |                   63.31 |\n",
      "| Rare Words            |                  63.95 |                   55.06 |                   63.21 |\n",
      "| Reading Comprehension |                  64.43 |                   42.95 |                   51.9  |\n",
      "| Standard Nomenclature |                  66.01 |                   44.44 |                   58.82 |\n",
      "| **Overall**           |                  61.83 |                   44.21 |                   53.9  |\n"
     ]
    }
   ],
   "source": [
    "dataset = \"HAERAE\"\n",
    "csv_path_dict = {\n",
    "    \"Phi-3.5-MoE-instruct\": f\"results/[{dataset}] Phi-3-5-MoE-instruct.csv\",\n",
    "    \"Phi-3.5-mini-instruct\": f\"results/[{dataset}] Phi-3-5-mini-instruct.csv\",\n",
    "    \"Llama-3.1-8B-Instruct\": f\"results/[{dataset}] llama-3-1-8b-instruct.csv\",\n",
    "}\n",
    "print_experiments(dataset, csv_path_dict)"
   ]
  },
  {
   "cell_type": "markdown",
   "id": "ecb92d0e-a96d-4285-a981-4c403d712395",
   "metadata": {},
   "source": [
    "### Proprietary models"
   ]
  },
  {
   "cell_type": "code",
   "execution_count": 4,
   "id": "00927374-2fd3-4c4d-ac1c-a64de44ab8e6",
   "metadata": {
    "tags": []
   },
   "outputs": [
    {
     "name": "stdout",
     "output_type": "stream",
     "text": [
      "### HAERAE\n",
      "\n",
      "#### Accuracy by category\n",
      "| category              |   GPT-4o |   GPT-4o-mini |   GPT-4-turbo |   GPT-3.5-turbo |\n",
      "|:----------------------|---------:|--------------:|--------------:|----------------:|\n",
      "| General Knowledge     |    77.27 |         53.41 |         66.48 |           40.91 |\n",
      "| History               |    92.02 |         84.57 |         78.72 |           30.32 |\n",
      "| Loan Words            |    79.88 |         76.33 |         78.11 |           59.17 |\n",
      "| Rare Words            |    87.9  |         81.98 |         79.01 |           61.23 |\n",
      "| Reading Comprehension |    85.46 |         77.18 |         80.09 |           56.15 |\n",
      "| Standard Nomenclature |    88.89 |         75.82 |         79.08 |           53.59 |\n",
      "| **Overall**           |    85.7  |         76.4  |         77.76 |           52.67 |\n"
     ]
    }
   ],
   "source": [
    "dataset = \"HAERAE\"\n",
    "csv_path_dict = {\n",
    "    \"GPT-4o\": f\"results/[{dataset}] gpt-4o-240513.csv\",\n",
    "    \"GPT-4o-mini\": f\"results/[{dataset}] gpt-4o-mini-240718.csv\",\n",
    "    \"GPT-4-turbo\": f\"results/[{dataset}] gpt-4-turbo-240409.csv\",\n",
    "    \"GPT-3.5-turbo\": f\"results/[{dataset}] gpt-35-turbo-230613.csv\"\n",
    "}\n",
    "print_experiments(dataset, csv_path_dict)"
   ]
  },
  {
   "cell_type": "markdown",
   "id": "6ad0a624-7fad-4ada-b998-db0cc77fdde4",
   "metadata": {},
   "source": [
    "## KMMLU"
   ]
  },
  {
   "cell_type": "markdown",
   "id": "14b3a169-ae27-469e-b849-0d4fd1809b94",
   "metadata": {},
   "source": [
    "### Open source models"
   ]
  },
  {
   "cell_type": "code",
   "execution_count": null,
   "id": "bcf67094-1544-4655-aa85-824ccd783a18",
   "metadata": {
    "tags": []
   },
   "outputs": [],
   "source": [
    "dataset = \"KMMLU\"\n",
    "csv_path_dict = {\n",
    "    \"Phi-3.5-MoE-instruct\": f\"results/[{dataset}] Phi-3-5-MoE-instruct.csv\",\n",
    "    \"Phi-3.5-mini-instruct\": f\"results/[{dataset}] Phi-3-5-mini-instruct.csv\",\n",
    "    \"Llama-3.1-8B-Instruct\": f\"results/[{dataset}] llama-3-1-8b-instruct.csv\",\n",
    "}\n",
    "print_experiments(dataset, csv_path_dict)"
   ]
  },
  {
   "cell_type": "markdown",
   "id": "cc3bc9bc-b7ca-4c90-af06-4ea1f98107cd",
   "metadata": {},
   "source": [
    "### Proprietary models"
   ]
  },
  {
   "cell_type": "code",
   "execution_count": 5,
   "id": "21166514-b5b7-4b5b-b6e4-6818f14ae1dd",
   "metadata": {
    "tags": []
   },
   "outputs": [
    {
     "name": "stdout",
     "output_type": "stream",
     "text": [
      "### KMMLU\n",
      "\n",
      "#### Accuracy by supercategory\n",
      "| supercategory   |   GPT-4o |   GPT-4o-mini |   GPT-4-turbo |   GPT-3.5-turbo |\n",
      "|:----------------|---------:|--------------:|--------------:|----------------:|\n",
      "| Applied Science |    61.35 |         49.19 |         55.97 |           38.47 |\n",
      "| HUMSS           |    69.28 |         56.37 |         63    |           40.9  |\n",
      "| Other           |    63.64 |         52.32 |         57.51 |           40.19 |\n",
      "| STEM            |    65.03 |         54.64 |         60.83 |           42.23 |\n",
      "| **Overall**     |    64.1  |         52.53 |         58.74 |           40.3  |\n",
      "\n",
      "#### Accuracy by category\n",
      "| supercategory   | category                                   |   GPT-4o |   GPT-4o-mini |   GPT-4-turbo |   GPT-3.5-turbo |\n",
      "|:----------------|:-------------------------------------------|---------:|--------------:|--------------:|----------------:|\n",
      "| Applied Science | Aviation-Engineering-and-Maintenance       |    69.7  |         50.3  |         61.82 |           39    |\n",
      "| Applied Science | Electronics-Engineering                    |    72.8  |         64.3  |         70.2  |           47.1  |\n",
      "| Applied Science | Energy-Management                          |    49.9  |         39.5  |         43.6  |           33.9  |\n",
      "| Applied Science | Environmental-Science                      |    45.41 |         36.5  |         42.7  |           30.51 |\n",
      "| Applied Science | Gas-Technology-and-Engineering             |    50.6  |         44.3  |         48.3  |           35    |\n",
      "| Applied Science | Geomatics                                  |    56.3  |         43.7  |         47.3  |           35.7  |\n",
      "| Applied Science | Industrial-Engineer                        |    61.6  |         53.1  |         57    |           41.12 |\n",
      "| Applied Science | Machine-Design-and-Manufacturing           |    68.3  |         52.9  |         61    |           37.9  |\n",
      "| Applied Science | Maritime-Engineering                       |    67    |         52.5  |         60.17 |           42.67 |\n",
      "| Applied Science | Nondestructive-Testing                     |    65.2  |         47.9  |         59.7  |           35.8  |\n",
      "| Applied Science | Railway-and-Automotive-Engineering         |    53.6  |         40.5  |         48.6  |           32.5  |\n",
      "| Applied Science | Telecommunications-and-Wireless-Technology |    77.8  |         66.1  |         73    |           52.24 |\n",
      "| HUMSS           | Accounting                                 |    72    |         48    |         59    |           30    |\n",
      "| HUMSS           | Criminal-Law                               |    52.5  |         36.5  |         46.5  |           40.5  |\n",
      "| HUMSS           | Economics                                  |    74.62 |         64.62 |         65.38 |           43.85 |\n",
      "| HUMSS           | Education                                  |    83    |         70    |         69    |           43    |\n",
      "| HUMSS           | Korean-History                             |    56    |         29    |         41    |           26    |\n",
      "| HUMSS           | Law                                        |    65.8  |         50.6  |         56.7  |           38.23 |\n",
      "| HUMSS           | Management                                 |    73.7  |         64.2  |         70.7  |           47.9  |\n",
      "| HUMSS           | Political-Science-and-Sociology            |    79.67 |         61.67 |         72.67 |           46.67 |\n",
      "| HUMSS           | Psychology                                 |    66.4  |         50.3  |         57.3  |           32.8  |\n",
      "| HUMSS           | Social-Welfare                             |    74.1  |         67.3  |         73.2  |           46.4  |\n",
      "| HUMSS           | Taxation                                   |    51    |         39.5  |         44    |           33.5  |\n",
      "| Other           | Agricultural-Sciences                      |    53.9  |         41.8  |         47.58 |           30.1  |\n",
      "| Other           | Construction                               |    50.6  |         41.8  |         46    |           33.2  |\n",
      "| Other           | Fashion                                    |    65.8  |         51.1  |         58.28 |           39.7  |\n",
      "| Other           | Food-Processing                            |    64.9  |         51.6  |         57.4  |           37.3  |\n",
      "| Other           | Health                                     |    80    |         69    |         70    |           50    |\n",
      "| Other           | Interior-Architecture-and-Design           |    77.5  |         64    |         71.1  |           48.2  |\n",
      "| Other           | Marketing                                  |    88.9  |         83.1  |         86.26 |           63.6  |\n",
      "| Other           | Patent                                     |    52    |         33    |         46    |           40    |\n",
      "| Other           | Public-Safety                              |    53    |         44.2  |         48.2  |           36.2  |\n",
      "| Other           | Real-Estate                                |    64.5  |         49    |         56.5  |           38    |\n",
      "| Other           | Refrigerating-Machinery                    |    53.9  |         41.9  |         45.6  |           32.7  |\n",
      "| STEM            | Biology                                    |    63.1  |         45.5  |         52.83 |           31.84 |\n",
      "| STEM            | Chemical-Engineering                       |    65    |         55.6  |         62.6  |           38.5  |\n",
      "| STEM            | Chemistry                                  |    68.67 |         57.33 |         64.33 |           39.67 |\n",
      "| STEM            | Civil-Engineering                          |    53.7  |         46.9  |         50.3  |           38.3  |\n",
      "| STEM            | Computer-Science                           |    88.2  |         80.1  |         84.8  |           65.7  |\n",
      "| STEM            | Ecology                                    |    64.4  |         54.3  |         60    |           42.9  |\n",
      "| STEM            | Electrical-Engineering                     |    45.9  |         38.5  |         44.1  |           31.7  |\n",
      "| STEM            | Information-Technology                     |    83.6  |         78.2  |         81.2  |           63.78 |\n",
      "| STEM            | Materials-Engineering                      |    69.4  |         52.1  |         64.55 |           39.69 |\n",
      "| STEM            | Math                                       |    32.67 |         28.33 |         28.33 |           26    |\n",
      "| STEM            | Mechanical-Engineering                     |    59.5  |         46.8  |         54.7  |           34.2  |\n"
     ]
    }
   ],
   "source": [
    "dataset = \"KMMLU\"\n",
    "csv_path_dict = {\n",
    "    \"GPT-4o\": f\"results/[{dataset}] gpt-4o-240513.csv\",\n",
    "    \"GPT-4o-mini\": f\"results/[{dataset}] gpt-4o-mini-240718.csv\",\n",
    "    \"GPT-4-turbo\": f\"results/[{dataset}] gpt-4-turbo-240409.csv\",\n",
    "    \"GPT-3.5-turbo\": f\"results/[{dataset}] gpt-35-turbo-230613.csv\"\n",
    "}\n",
    "print_experiments(dataset, csv_path_dict)"
   ]
  },
  {
   "cell_type": "markdown",
   "id": "97636dc7-0806-4e2a-ba15-7d84c4bc9a6e",
   "metadata": {},
   "source": [
    "## KMMLU-HARD"
   ]
  },
  {
   "cell_type": "markdown",
   "id": "19a17035-85c0-49ae-a293-ea68469e6bd9",
   "metadata": {},
   "source": [
    "### Open source models"
   ]
  },
  {
   "cell_type": "code",
   "execution_count": null,
   "id": "f366b7da-b91a-4f6b-83b8-879b45443827",
   "metadata": {
    "tags": []
   },
   "outputs": [],
   "source": [
    "dataset = \"KMMLU-HARD\"\n",
    "csv_path_dict = {\n",
    "    \"Phi-3.5-MoE-instruct\": f\"results/[{dataset}] Phi-3-5-MoE-instruct.csv\",\n",
    "    \"Phi-3.5-mini-instruct\": f\"results/[{dataset}] Phi-3-5-mini-instruct.csv\",\n",
    "    \"Llama-3.1-8B-Instruct\": f\"results/[{dataset}] llama-3-1-8b-instruct.csv\",\n",
    "}\n",
    "print_experiments(dataset, csv_path_dict)"
   ]
  },
  {
   "cell_type": "markdown",
   "id": "9a0e2a30-dc64-4511-9630-4bffc84fc69e",
   "metadata": {},
   "source": [
    "### Proprietary models"
   ]
  },
  {
   "cell_type": "code",
   "execution_count": 6,
   "id": "4db9fd55-7827-47e1-b230-c7b1e4f7adbf",
   "metadata": {
    "tags": []
   },
   "outputs": [
    {
     "name": "stdout",
     "output_type": "stream",
     "text": [
      "### KMMLU-HARD\n",
      "\n",
      "#### Accuracy by supercategory\n",
      "| supercategory   |   GPT-4o |   GPT-4o-mini |   GPT-4-turbo |   GPT-3.5-turbo |\n",
      "|:----------------|---------:|--------------:|--------------:|----------------:|\n",
      "| Applied Science |    36.86 |         22.17 |         29.17 |           21.07 |\n",
      "| HUMSS           |    41.97 |         23.07 |         31.51 |           19.44 |\n",
      "| Other           |    40.29 |         26.48 |         29.59 |           22.22 |\n",
      "| STEM            |    39.55 |         26.27 |         32.18 |           20.91 |\n",
      "| **Overall**     |    39.45 |         24.46 |         30.56 |           20.97 |\n",
      "\n",
      "#### Accuracy by category\n",
      "| supercategory   | category                                   |   GPT-4o |   GPT-4o-mini |   GPT-4-turbo |   GPT-3.5-turbo |\n",
      "|:----------------|:-------------------------------------------|---------:|--------------:|--------------:|----------------:|\n",
      "| Applied Science | Aviation-Engineering-and-Maintenance       |    45    |         25    |         32    |           25    |\n",
      "| Applied Science | Electronics-Engineering                    |    42    |         29    |         41    |           22    |\n",
      "| Applied Science | Energy-Management                          |    38    |         27    |         37    |           22.45 |\n",
      "| Applied Science | Environmental-Science                      |    26.25 |         20    |         24    |           31.25 |\n",
      "| Applied Science | Gas-Technology-and-Engineering             |    35    |         23    |         28    |           13    |\n",
      "| Applied Science | Geomatics                                  |    34    |         22    |         24    |           22    |\n",
      "| Applied Science | Industrial-Engineer                        |    32    |         19    |         26    |           25    |\n",
      "| Applied Science | Machine-Design-and-Manufacturing           |    45    |         17    |         27    |           16.25 |\n",
      "| Applied Science | Maritime-Engineering                       |    32    |         19    |         26    |           21    |\n",
      "| Applied Science | Nondestructive-Testing                     |    36    |         22    |         23    |           14    |\n",
      "| Applied Science | Railway-and-Automotive-Engineering         |    32    |         17    |         24    |           18    |\n",
      "| Applied Science | Telecommunications-and-Wireless-Technology |    43    |         26    |         38    |           24    |\n",
      "| HUMSS           | Accounting                                 |    50    |         21.74 |         21.74 |           13.04 |\n",
      "| HUMSS           | Criminal-Law                               |    31    |         16    |         22    |           27    |\n",
      "| HUMSS           | Economics                                  |    52.38 |         26.19 |         38.1  |           26.19 |\n",
      "| HUMSS           | Education                                  |    56.52 |         43.48 |         34.78 |           17.39 |\n",
      "| HUMSS           | Korean-History                             |    40.91 |         18.18 |         27.27 |           18.18 |\n",
      "| HUMSS           | Law                                        |    40    |         20    |         28    |           15.85 |\n",
      "| HUMSS           | Management                                 |    42    |         26    |         38    |           22    |\n",
      "| HUMSS           | Political-Science-and-Sociology            |    53.33 |         25.56 |         38.89 |           23.33 |\n",
      "| HUMSS           | Psychology                                 |    44    |         20    |         32    |            7    |\n",
      "| HUMSS           | Social-Welfare                             |    45    |         32    |         47    |           24    |\n",
      "| HUMSS           | Taxation                                   |    28.12 |         18.75 |         17.71 |           17.71 |\n",
      "| Other           | Agricultural-Sciences                      |    38    |         23    |         28    |           17    |\n",
      "| Other           | Construction                               |    34    |         28    |         27    |           23    |\n",
      "| Other           | Fashion                                    |    31    |         23    |         20    |           29    |\n",
      "| Other           | Food-Processing                            |    38    |         21    |         26    |           19    |\n",
      "| Other           | Health                                     |    39.13 |         34.78 |         34.78 |           17.39 |\n",
      "| Other           | Interior-Architecture-and-Design           |    49    |         29    |         36.67 |           25    |\n",
      "| Other           | Marketing                                  |    54    |         39    |         46    |           22    |\n",
      "| Other           | Patent                                     |    47.06 |         25.49 |         25.49 |           37.25 |\n",
      "| Other           | Public-Safety                              |    31    |         19    |         25    |           17    |\n",
      "| Other           | Real-Estate                                |    39.33 |         20.22 |         32.58 |           19.1  |\n",
      "| Other           | Refrigerating-Machinery                    |    45    |         34    |         27    |           22    |\n",
      "| STEM            | Biology                                    |    46    |         27    |         26    |           13    |\n",
      "| STEM            | Chemical-Engineering                       |    37    |         21    |         34    |           20    |\n",
      "| STEM            | Chemistry                                  |    50    |         35    |         45    |           27    |\n",
      "| STEM            | Civil-Engineering                          |    38    |         23    |         29    |           13    |\n",
      "| STEM            | Computer-Science                           |    47    |         31    |         36    |           26    |\n",
      "| STEM            | Ecology                                    |    39    |         26    |         25    |           19    |\n",
      "| STEM            | Electrical-Engineering                     |    34    |         19    |         24    |           16    |\n",
      "| STEM            | Information-Technology                     |    43    |         35    |         44    |           28    |\n",
      "| STEM            | Materials-Engineering                      |    43    |         25    |         33    |           24    |\n",
      "| STEM            | Math                                       |    23    |         25    |         22    |           22    |\n",
      "| STEM            | Mechanical-Engineering                     |    35    |         22    |         36    |           22    |\n"
     ]
    }
   ],
   "source": [
    "dataset = \"KMMLU-HARD\"\n",
    "csv_path_dict = {\n",
    "    \"GPT-4o\": f\"results/[{dataset}] gpt-4o-240513.csv\",\n",
    "    \"GPT-4o-mini\": f\"results/[{dataset}] gpt-4o-mini-240718.csv\",\n",
    "    \"GPT-4-turbo\": f\"results/[{dataset}] gpt-4-turbo-240409.csv\",\n",
    "    \"GPT-3.5-turbo\": f\"results/[{dataset}] gpt-35-turbo-230613.csv\"\n",
    "}\n",
    "print_experiments(dataset, csv_path_dict)"
   ]
  }
 ],
 "metadata": {
  "kernelspec": {
   "display_name": "Python 3.10 - SDK v2",
   "language": "python",
   "name": "python310-sdkv2"
  },
  "language_info": {
   "codemirror_mode": {
    "name": "ipython",
    "version": 3
   },
   "file_extension": ".py",
   "mimetype": "text/x-python",
   "name": "python",
   "nbconvert_exporter": "python",
   "pygments_lexer": "ipython3",
   "version": "3.10.14"
  }
 },
 "nbformat": 4,
 "nbformat_minor": 5
}
