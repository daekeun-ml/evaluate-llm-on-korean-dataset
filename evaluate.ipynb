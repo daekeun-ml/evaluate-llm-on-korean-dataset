{
 "cells": [
  {
   "cell_type": "code",
   "execution_count": null,
   "id": "a388f7dc-c6a9-483c-ba10-f61d0af921fd",
   "metadata": {
    "tags": []
   },
   "outputs": [],
   "source": [
    "import glob\n",
    "import pandas as pd\n",
    "from util.evaluate_helper import get_experiments_md, extract_single_alphabet_answer\n",
    "\n",
    "csv_files = glob.glob(\"results/*.csv\")\n",
    "\n",
    "for file_path in csv_files:\n",
    "    df = pd.read_csv(file_path)\n",
    "    df['pred'] = df.apply(extract_single_alphabet_answer, axis=1)\n",
    "    df.to_csv(file_path, index=False)\n",
    "    print(f\"Processed {file_path}\")"
   ]
  },
  {
   "cell_type": "markdown",
   "id": "fcf64bdf-36ed-4e96-bdc5-59f70424d338",
   "metadata": {},
   "source": [
    "## CLIcK"
   ]
  },
  {
   "cell_type": "markdown",
   "id": "77803bfd-7933-4167-8bf0-3d8025b86ef4",
   "metadata": {},
   "source": [
    "### Open source models"
   ]
  },
  {
   "cell_type": "code",
   "execution_count": null,
   "id": "3a1e6299-99b6-4574-9502-9d9f22b8ee78",
   "metadata": {
    "tags": []
   },
   "outputs": [],
   "source": [
    "dataset = \"CLIcK\"\n",
    "csv_path_dict = {\n",
    "    \"Phi-3.5-MoE-instruct\": f\"results/[{dataset}] Phi-3-5-MoE-instruct.csv\",\n",
    "    \"Phi-3.5-mini-instruct\": f\"results/[{dataset}] Phi-3-5-mini-instruct.csv\",\n",
    "    \"Phi-3-mini-128k-instruct-June\": f\"results/[{dataset}] Phi-3-mini-128k-June.csv\",\n",
    "    \"Llama-3.1-8B-Instruct\": f\"results/[{dataset}] llama-3-1-8b-instruct.csv\",\n",
    "}\n",
    "print(get_experiments_md(dataset, csv_path_dict))"
   ]
  },
  {
   "cell_type": "code",
   "execution_count": null,
   "id": "79f19b67-9855-4741-b1c2-0d5f414a74eb",
   "metadata": {},
   "outputs": [],
   "source": [
    "### Proprietary models"
   ]
  },
  {
   "cell_type": "code",
   "execution_count": null,
   "id": "a4b8d58a-c148-4578-a35d-cc7b94c9b3fd",
   "metadata": {
    "tags": []
   },
   "outputs": [],
   "source": [
    "dataset = \"CLIcK\"\n",
    "csv_path_dict = {\n",
    "    \"GPT-4o\": f\"results/[{dataset}] gpt-4o-240513.csv\",\n",
    "    \"GPT-4o-mini\": f\"results/[{dataset}] gpt-4o-mini-240718.csv\",\n",
    "    \"GPT-4-turbo\": f\"results/[{dataset}] gpt-4-turbo-240409.csv\",\n",
    "    \"GPT-3.5-turbo\": f\"results/[{dataset}] gpt-35-turbo-230613.csv\"\n",
    "}\n",
    "print(get_experiments_md(dataset, csv_path_dict))"
   ]
  },
  {
   "cell_type": "markdown",
   "id": "ef65d154-7d6e-444c-8e16-daf0ac22dfad",
   "metadata": {},
   "source": [
    "## HAERAE 1.0"
   ]
  },
  {
   "cell_type": "markdown",
   "id": "5c8a3122-5817-476a-bbc8-5d60963f8086",
   "metadata": {},
   "source": [
    "### Open source models"
   ]
  },
  {
   "cell_type": "code",
   "execution_count": null,
   "id": "ae55484c-834e-4614-9069-d7239c4bd9e8",
   "metadata": {
    "tags": []
   },
   "outputs": [],
   "source": [
    "dataset = \"HAERAE\"\n",
    "csv_path_dict = {\n",
    "    \"Phi-3.5-MoE-instruct\": f\"results/[{dataset}] Phi-3-5-MoE-instruct.csv\",\n",
    "    \"Phi-3.5-mini-instruct\": f\"results/[{dataset}] Phi-3-5-mini-instruct.csv\",\n",
    "    \"Phi-3-mini-128k-instruct-June\": f\"results/[{dataset}] Phi-3-mini-128k-June.csv\",\n",
    "    \"Llama-3.1-8B-Instruct\": f\"results/[{dataset}] llama-3-1-8b-instruct.csv\",\n",
    "}\n",
    "print(get_experiments_md(dataset, csv_path_dict))"
   ]
  },
  {
   "cell_type": "markdown",
   "id": "ecb92d0e-a96d-4285-a981-4c403d712395",
   "metadata": {},
   "source": [
    "### Proprietary models"
   ]
  },
  {
   "cell_type": "code",
   "execution_count": null,
   "id": "00927374-2fd3-4c4d-ac1c-a64de44ab8e6",
   "metadata": {
    "tags": []
   },
   "outputs": [],
   "source": [
    "dataset = \"HAERAE\"\n",
    "csv_path_dict = {\n",
    "    \"GPT-4o\": f\"results/[{dataset}] gpt-4o-240513.csv\",\n",
    "    \"GPT-4o-mini\": f\"results/[{dataset}] gpt-4o-mini-240718.csv\",\n",
    "    \"GPT-4-turbo\": f\"results/[{dataset}] gpt-4-turbo-240409.csv\",\n",
    "    \"GPT-3.5-turbo\": f\"results/[{dataset}] gpt-35-turbo-230613.csv\"\n",
    "}\n",
    "print(get_experiments_md(dataset, csv_path_dict))"
   ]
  },
  {
   "cell_type": "markdown",
   "id": "6ad0a624-7fad-4ada-b998-db0cc77fdde4",
   "metadata": {},
   "source": [
    "## KMMLU"
   ]
  },
  {
   "cell_type": "markdown",
   "id": "14b3a169-ae27-469e-b849-0d4fd1809b94",
   "metadata": {},
   "source": [
    "### Open source models"
   ]
  },
  {
   "cell_type": "markdown",
   "id": "d8e26c56",
   "metadata": {},
   "source": [
    "#### zero-shot"
   ]
  },
  {
   "cell_type": "code",
   "execution_count": null,
   "id": "bcf67094-1544-4655-aa85-824ccd783a18",
   "metadata": {
    "tags": []
   },
   "outputs": [],
   "source": [
    "dataset = \"KMMLU\"\n",
    "csv_path_dict = {\n",
    "    \"Phi-3.5-MoE-instruct\": f\"results/[{dataset}] Phi-3-5-MoE-instruct.csv\",\n",
    "    \"Phi-3.5-mini-instruct\": f\"results/[{dataset}] Phi-3-5-mini-instruct.csv\",\n",
    "    \"Phi-3-mini-128k-instruct-June\": f\"results/[{dataset}] Phi-3-mini-128k-June.csv\",\n",
    "    \"Llama-3.1-8B-Instruct\": f\"results/[{dataset}] llama-3-1-8b-instruct.csv\",\n",
    "}\n",
    "print(get_experiments_md(dataset, csv_path_dict))"
   ]
  },
  {
   "cell_type": "markdown",
   "id": "3b0cb098",
   "metadata": {},
   "source": [
    "#### 5-shot"
   ]
  },
  {
   "cell_type": "code",
   "execution_count": null,
   "id": "3e545f28",
   "metadata": {},
   "outputs": [],
   "source": [
    "dataset = \"KMMLU\"\n",
    "postfix = \"5shot\"\n",
    "csv_path_dict = {\n",
    "    \"Phi-3.5-MoE-instruct\": f\"results/[{dataset}] Phi-3-5-MoE-instruct-{postfix}.csv\",\n",
    "    \"Phi-3.5-mini-instruct\": f\"results/[{dataset}] Phi-3-5-mini-instruct-{postfix}.csv\",\n",
    "    \"Phi-3-mini-128k-instruct-June\": f\"results/[{dataset}] Phi-3-mini-128k-June-{postfix}.csv\",\n",
    "    \"Llama-3.1-8B-Instruct\": f\"results/[{dataset}] llama-3-1-8b-instruct-{postfix}.csv\",\n",
    "}\n",
    "print(get_experiments_md(dataset, csv_path_dict))"
   ]
  },
  {
   "cell_type": "markdown",
   "id": "cc3bc9bc-b7ca-4c90-af06-4ea1f98107cd",
   "metadata": {},
   "source": [
    "### Proprietary models"
   ]
  },
  {
   "cell_type": "markdown",
   "id": "84e1e1bc",
   "metadata": {},
   "source": [
    "#### zero-shot"
   ]
  },
  {
   "cell_type": "code",
   "execution_count": null,
   "id": "21166514-b5b7-4b5b-b6e4-6818f14ae1dd",
   "metadata": {
    "tags": []
   },
   "outputs": [],
   "source": [
    "dataset = \"KMMLU\"\n",
    "csv_path_dict = {\n",
    "    \"GPT-4o\": f\"results/[{dataset}] gpt-4o-240513.csv\",\n",
    "    \"GPT-4o-mini\": f\"results/[{dataset}] gpt-4o-mini-240718.csv\",\n",
    "    \"GPT-4-turbo\": f\"results/[{dataset}] gpt-4-turbo-240409.csv\",\n",
    "    \"GPT-3.5-turbo\": f\"results/[{dataset}] gpt-35-turbo-230613.csv\"\n",
    "}\n",
    "get_experiments_md(dataset, csv_path_dict)"
   ]
  },
  {
   "cell_type": "markdown",
   "id": "c9a81892",
   "metadata": {},
   "source": [
    "#### 5-shot"
   ]
  },
  {
   "cell_type": "code",
   "execution_count": null,
   "id": "a2e2338d",
   "metadata": {},
   "outputs": [],
   "source": [
    "dataset = \"KMMLU\"\n",
    "postfix = \"5shot\"\n",
    "csv_path_dict = {\n",
    "    \"GPT-4o\": f\"results/[{dataset}] gpt-4o-240513-{postfix}.csv\",\n",
    "    \"GPT-4o-mini\": f\"results/[{dataset}] gpt-4o-mini-240718-{postfix}.csv\",\n",
    "    \"GPT-4-turbo\": f\"results/[{dataset}] gpt-4-turbo-240409-{postfix}.csv\",\n",
    "    \"GPT-3.5-turbo\": f\"results/[{dataset}] gpt-35-turbo-230613-{postfix}.csv\"\n",
    "}\n",
    "print(get_experiments_md(dataset, csv_path_dict))"
   ]
  },
  {
   "cell_type": "markdown",
   "id": "97636dc7-0806-4e2a-ba15-7d84c4bc9a6e",
   "metadata": {},
   "source": [
    "## KMMLU-HARD"
   ]
  },
  {
   "cell_type": "markdown",
   "id": "19a17035-85c0-49ae-a293-ea68469e6bd9",
   "metadata": {},
   "source": [
    "### Open source models"
   ]
  },
  {
   "cell_type": "markdown",
   "id": "49f71459",
   "metadata": {},
   "source": [
    "#### zero-shot"
   ]
  },
  {
   "cell_type": "code",
   "execution_count": null,
   "id": "f366b7da-b91a-4f6b-83b8-879b45443827",
   "metadata": {
    "tags": []
   },
   "outputs": [],
   "source": [
    "dataset = \"KMMLU-HARD\"\n",
    "csv_path_dict = {\n",
    "    \"Phi-3.5-MoE-instruct\": f\"results/[{dataset}] Phi-3-5-MoE-instruct.csv\",\n",
    "    \"Phi-3.5-mini-instruct\": f\"results/[{dataset}] Phi-3-5-mini-instruct.csv\",\n",
    "    \"Phi-3-mini-128k-instruct-June\": f\"results/[{dataset}] Phi-3-mini-128k-June.csv\",\n",
    "    \"Llama-3.1-8B-Instruct\": f\"results/[{dataset}] llama-3-1-8b-instruct.csv\",\n",
    "}\n",
    "print(get_experiments_md(dataset, csv_path_dict))"
   ]
  },
  {
   "cell_type": "markdown",
   "id": "8b54cebf",
   "metadata": {},
   "source": [
    "#### 5-shot"
   ]
  },
  {
   "cell_type": "code",
   "execution_count": null,
   "id": "3d426ff5",
   "metadata": {},
   "outputs": [],
   "source": [
    "dataset = \"KMMLU-HARD\"\n",
    "postfix = \"5shot\"\n",
    "csv_path_dict = {\n",
    "    \"Phi-3.5-MoE-instruct\": f\"results/[{dataset}] Phi-3-5-MoE-instruct-{postfix}.csv\",\n",
    "    \"Phi-3.5-mini-instruct\": f\"results/[{dataset}] Phi-3-5-mini-instruct-{postfix}.csv\",\n",
    "    \"Phi-3-mini-128k-instruct-June\": f\"results/[{dataset}] Phi-3-mini-128k-June-{postfix}.csv\",\n",
    "    \"Llama-3.1-8B-Instruct\": f\"results/[{dataset}] llama-3-1-8b-instruct-{postfix}.csv\",\n",
    "}\n",
    "print(get_experiments_md(dataset, csv_path_dict))"
   ]
  },
  {
   "cell_type": "markdown",
   "id": "9a0e2a30-dc64-4511-9630-4bffc84fc69e",
   "metadata": {},
   "source": [
    "### Proprietary models"
   ]
  },
  {
   "cell_type": "markdown",
   "id": "f0abe6ab",
   "metadata": {},
   "source": [
    "#### zero-shot"
   ]
  },
  {
   "cell_type": "code",
   "execution_count": null,
   "id": "4db9fd55-7827-47e1-b230-c7b1e4f7adbf",
   "metadata": {
    "tags": []
   },
   "outputs": [],
   "source": [
    "dataset = \"KMMLU-HARD\"\n",
    "csv_path_dict = {\n",
    "    \"GPT-4o\": f\"results/[{dataset}] gpt-4o-240513.csv\",\n",
    "    \"GPT-4o-mini\": f\"results/[{dataset}] gpt-4o-mini-240718.csv\",\n",
    "    \"GPT-4-turbo\": f\"results/[{dataset}] gpt-4-turbo-240409.csv\",\n",
    "    \"GPT-3.5-turbo\": f\"results/[{dataset}] gpt-35-turbo-230613.csv\"\n",
    "}\n",
    "print(get_experiments_md(dataset, csv_path_dict))"
   ]
  },
  {
   "cell_type": "markdown",
   "id": "55acaf22",
   "metadata": {},
   "source": [
    "#### 5-shot"
   ]
  },
  {
   "cell_type": "code",
   "execution_count": null,
   "id": "893d728e",
   "metadata": {},
   "outputs": [],
   "source": [
    "dataset = \"KMMLU-HARD\"\n",
    "postfix = \"5shot\"\n",
    "csv_path_dict = {\n",
    "    \"GPT-4o\": f\"results/[{dataset}] gpt-4o-240513-{postfix}.csv\",\n",
    "    \"GPT-4o-mini\": f\"results/[{dataset}] gpt-4o-mini-240718-{postfix}.csv\",\n",
    "    \"GPT-4-turbo\": f\"results/[{dataset}] gpt-4-turbo-240409-{postfix}.csv\",\n",
    "    \"GPT-3.5-turbo\": f\"results/[{dataset}] gpt-35-turbo-230613-{postfix}.csv\"\n",
    "}\n",
    "print(get_experiments_md(dataset, csv_path_dict))"
   ]
  }
 ],
 "metadata": {
  "kernelspec": {
   "display_name": "py312-dev",
   "language": "python",
   "name": "python3"
  },
  "language_info": {
   "codemirror_mode": {
    "name": "ipython",
    "version": 3
   },
   "file_extension": ".py",
   "mimetype": "text/x-python",
   "name": "python",
   "nbconvert_exporter": "python",
   "pygments_lexer": "ipython3",
   "version": "3.12.2"
  }
 },
 "nbformat": 4,
 "nbformat_minor": 5
}
